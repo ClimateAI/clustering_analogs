{
 "metadata": {
  "language_info": {
   "codemirror_mode": {
    "name": "ipython",
    "version": 3
   },
   "file_extension": ".py",
   "mimetype": "text/x-python",
   "name": "python",
   "nbconvert_exporter": "python",
   "pygments_lexer": "ipython3",
   "version": "3.8.5-final"
  },
  "orig_nbformat": 2,
  "kernelspec": {
   "name": "python38564bitanalogsconda07410ef15de949768344e52b4f3fef74",
   "display_name": "Python 3.8.5 64-bit ('analogs': conda)"
  }
 },
 "nbformat": 4,
 "nbformat_minor": 2,
 "cells": [
  {
   "cell_type": "code",
   "execution_count": 1,
   "metadata": {},
   "outputs": [],
   "source": [
    "import intake\n",
    "import os.path\n",
    "import xarray as xr\n",
    "from utils import plotter\n",
    "from analogs import calculate_analogs, load_LENS_dataset, print_analog_stats, plot_analog_validation\n",
    "import xesmf as xe\n",
    "import numpy as np\n",
    "import cartopy.crs as ccrs\n",
    "import matplotlib.pyplot as plt\n",
    "import matplotlib\n",
    "import cartopy"
   ]
  },
  {
   "cell_type": "code",
   "execution_count": 2,
   "metadata": {},
   "outputs": [],
   "source": [
    "# lat, lon = 33.1072795,35.4688208\n",
    "lat, lon = 20.194824,-100.9225607"
   ]
  },
  {
   "cell_type": "code",
   "execution_count": 3,
   "metadata": {},
   "outputs": [],
   "source": [
    "URL = \"/home/jhexr/code/clustering_analogs/data/aws-cesm1-le.json\"\n",
    "if not os.path.isfile(URL):\n",
    "    URL = \"https://ncar-cesm-lens.s3-us-west-2.amazonaws.com/\\\n",
    "        catalogs/aws-cesm1-le.json\""
   ]
  },
  {
   "cell_type": "code",
   "execution_count": 4,
   "metadata": {
    "tags": []
   },
   "outputs": [
    {
     "output_type": "stream",
     "name": "stdout",
     "text": [
      "<xarray.Dataset>\nDimensions:    (lat: 192, lon: 288, member_id: 40, time: 181)\nCoordinates:\n  * time       (time) object 1920-01-01 00:00:00 ... 2100-01-01 00:00:00\n  * lat        (lat) float64 -90.0 -89.06 -88.12 -87.17 ... 88.12 89.06 90.0\n  * lon        (lon) float64 0.0 1.25 2.5 3.75 5.0 ... 355.0 356.2 357.5 358.8\n  * member_id  (member_id) int64 1 2 3 4 5 6 7 8 ... 34 35 101 102 103 104 105\nData variables:\n    TREFHT     (member_id, time, lat, lon) float32 ...\n    PRECC      (member_id, time, lat, lon) float32 ...\n"
     ]
    }
   ],
   "source": [
    "#LENS_dataset = load_LENS_dataset(URL)\n",
    "#LENS_dataset.to_netcdf(\"./data/Lens_dataset.nc\")\n",
    "LENS_dataset = xr.open_dataset('./data/Lens_dataset.nc')\n",
    "print(LENS_dataset)"
   ]
  },
  {
   "cell_type": "code",
   "execution_count": null,
   "metadata": {},
   "outputs": [],
   "source": [
    "curr_analogs = calculate_analogs(\n",
    "    LENS_dataset, lat, lon, \n",
    "    ['TREFHT', 'PRECC'], LENS_dataset, \n",
    "    '2000-01-01', '2009-12-31', \n",
    "    '2000-01-01', '2009-12-31')"
   ]
  },
  {
   "cell_type": "code",
   "execution_count": null,
   "metadata": {
    "tags": []
   },
   "outputs": [],
   "source": [
    "curr_analogs = curr_analogs.load()\n",
    "print(\"Done\")\n",
    "print(curr_analogs)"
   ]
  },
  {
   "cell_type": "code",
   "execution_count": 5,
   "metadata": {
    "tags": []
   },
   "outputs": [],
   "source": [
    "curr_analogs = xr.load_dataset('./data/gto_cesm.nc')\n",
    "curr_distances = curr_analogs['Standardized Euclidean Distance'].mean(dim='member_id')\n",
    "da = curr_distances\n",
    "cmap = 'Greens_r'\n",
    "title = 'Current Climate Analogs for 2000-2009 Hula'\n",
    "vmin = 0\n",
    "vmax = 3\n",
    "k = 3\n",
    "location=(lon,lat)\n",
    "mask_out_ocean = True\n",
    "cbar_ylabel=None"
   ]
  },
  {
   "cell_type": "code",
   "execution_count": 6,
   "metadata": {
    "tags": []
   },
   "outputs": [
    {
     "output_type": "stream",
     "name": "stdout",
     "text": [
      "Reuse existing file: nearest_s2d_720x1440_192x288.nc\nusing dimensions ('lat', 'lon') from data variable lsmask as the horizontal dimensions for this dataset.\n"
     ]
    }
   ],
   "source": [
    "# mask ocean\n",
    "if mask_out_ocean:\n",
    "    import xesmf as xe\n",
    "    ds_in = xr.open_dataset(\"./data/lsmask.oisst.v2.nc\")\n",
    "    regridder = xe.Regridder(ds_in, da, 'nearest_s2d', reuse_weights=True)\n",
    "    ds_in = regridder(ds_in).squeeze()\n",
    "    da.values[ds_in['lsmask'] == 1] = np.nan"
   ]
  },
  {
   "cell_type": "code",
   "execution_count": 7,
   "metadata": {
    "tags": []
   },
   "outputs": [
    {
     "output_type": "stream",
     "name": "stdout",
     "text": [
      "                   Standardized Euclidean Distance\nlat        lon                                    \n-90.000000 0.00                          36.365845\n           1.25                          36.285984\n           2.50                          36.281197\n           3.75                          36.278149\n           5.00                          36.366158\n...                                            ...\n 83.403145 327.50                        23.556850\n           328.75                        23.543150\n           330.00                        23.494827\n           331.25                        23.432343\n           332.50                        23.290562\n\n[18478 rows x 1 columns]\n\npoints:\n[<xarray.DataArray 'Standardized Euclidean Distance' ()>\narray(0.40475354, dtype=float32)\nCoordinates:\n    lat      float64 20.26\n    lon      float64 6.25, <xarray.DataArray 'Standardized Euclidean Distance' ()>\narray(0.4085949, dtype=float32)\nCoordinates:\n    lat      float64 18.38\n    lon      float64 20.0, <xarray.DataArray 'Standardized Euclidean Distance' ()>\narray(0.42050543, dtype=float32)\nCoordinates:\n    lat      float64 17.43\n    lon      float64 351.2]\n"
     ]
    }
   ],
   "source": [
    "#get top locations, substitute for kmeans\n",
    "da_min = da.where(da != da.sel(lat=lat, lon=lon, method='nearest'))\n",
    "\n",
    "df = da_min.to_dataframe().dropna()\n",
    "df.reset_index(inplace=True)\n",
    "print(df)\n",
    "\n",
    "points = []\n",
    "for _ in range(k):\n",
    "    points.append(da_min.where(da_min==da_min.min(), drop=True).squeeze())\n",
    "    da_min = da_min.where(da_min!=da_min.min(), drop=True).squeeze()\n",
    "print(\"\\npoints:\")\n",
    "print(points)\n",
    "top_k=[(p.lon.item(), p.lat.item()) for p in points]"
   ]
  },
  {
   "cell_type": "code",
   "execution_count": 14,
   "metadata": {},
   "outputs": [
    {
     "output_type": "stream",
     "name": "stdout",
     "text": [
      "                   Standardized Euclidean Distance\nlat        lon                                    \n-90.000000 0.00                          36.365845\n           1.25                          36.285984\n           2.50                          36.281197\n           3.75                          36.278149\n           5.00                          36.366158\n...                                            ...\n 83.403145 327.50                        23.556850\n           328.75                        23.543150\n           330.00                        23.494827\n           331.25                        23.432343\n           332.50                        23.290562\n\n[18478 rows x 1 columns]\n"
     ]
    },
    {
     "output_type": "error",
     "ename": "KeyError",
     "evalue": "'lat'",
     "traceback": [
      "\u001b[0;31m---------------------------------------------------------------------------\u001b[0m",
      "\u001b[0;31mKeyError\u001b[0m                                  Traceback (most recent call last)",
      "\u001b[0;32m~/anaconda3/envs/analogs/lib/python3.8/site-packages/pandas/core/indexes/base.py\u001b[0m in \u001b[0;36mget_loc\u001b[0;34m(self, key, method, tolerance)\u001b[0m\n\u001b[1;32m   2890\u001b[0m             \u001b[0;32mtry\u001b[0m\u001b[0;34m:\u001b[0m\u001b[0;34m\u001b[0m\u001b[0;34m\u001b[0m\u001b[0m\n\u001b[0;32m-> 2891\u001b[0;31m                 \u001b[0;32mreturn\u001b[0m \u001b[0mself\u001b[0m\u001b[0;34m.\u001b[0m\u001b[0m_engine\u001b[0m\u001b[0;34m.\u001b[0m\u001b[0mget_loc\u001b[0m\u001b[0;34m(\u001b[0m\u001b[0mcasted_key\u001b[0m\u001b[0;34m)\u001b[0m\u001b[0;34m\u001b[0m\u001b[0;34m\u001b[0m\u001b[0m\n\u001b[0m\u001b[1;32m   2892\u001b[0m             \u001b[0;32mexcept\u001b[0m \u001b[0mKeyError\u001b[0m \u001b[0;32mas\u001b[0m \u001b[0merr\u001b[0m\u001b[0;34m:\u001b[0m\u001b[0;34m\u001b[0m\u001b[0;34m\u001b[0m\u001b[0m\n",
      "\u001b[0;32mpandas/_libs/index.pyx\u001b[0m in \u001b[0;36mpandas._libs.index.IndexEngine.get_loc\u001b[0;34m()\u001b[0m\n",
      "\u001b[0;32mpandas/_libs/index.pyx\u001b[0m in \u001b[0;36mpandas._libs.index.IndexEngine.get_loc\u001b[0;34m()\u001b[0m\n",
      "\u001b[0;32mpandas/_libs/hashtable_class_helper.pxi\u001b[0m in \u001b[0;36mpandas._libs.hashtable.PyObjectHashTable.get_item\u001b[0;34m()\u001b[0m\n",
      "\u001b[0;32mpandas/_libs/hashtable_class_helper.pxi\u001b[0m in \u001b[0;36mpandas._libs.hashtable.PyObjectHashTable.get_item\u001b[0;34m()\u001b[0m\n",
      "\u001b[0;31mKeyError\u001b[0m: 'lat'",
      "\nThe above exception was the direct cause of the following exception:\n",
      "\u001b[0;31mKeyError\u001b[0m                                  Traceback (most recent call last)",
      "\u001b[0;32m<ipython-input-14-6604c1d23bfc>\u001b[0m in \u001b[0;36m<module>\u001b[0;34m\u001b[0m\n\u001b[1;32m      2\u001b[0m \u001b[0;32mfrom\u001b[0m \u001b[0msklearn\u001b[0m\u001b[0;34m.\u001b[0m\u001b[0mcluster\u001b[0m \u001b[0;32mimport\u001b[0m \u001b[0mKMeans\u001b[0m\u001b[0;34m\u001b[0m\u001b[0;34m\u001b[0m\u001b[0m\n\u001b[1;32m      3\u001b[0m \u001b[0mplt\u001b[0m\u001b[0;34m.\u001b[0m\u001b[0mstyle\u001b[0m\u001b[0;34m.\u001b[0m\u001b[0muse\u001b[0m\u001b[0;34m(\u001b[0m\u001b[0;34m'default'\u001b[0m\u001b[0;34m)\u001b[0m\u001b[0;34m\u001b[0m\u001b[0;34m\u001b[0m\u001b[0m\n\u001b[0;32m----> 4\u001b[0;31m \u001b[0mx\u001b[0m\u001b[0;34m=\u001b[0m\u001b[0mnp\u001b[0m\u001b[0;34m.\u001b[0m\u001b[0marray\u001b[0m\u001b[0;34m(\u001b[0m\u001b[0mdf\u001b[0m\u001b[0;34m[\u001b[0m\u001b[0;34m'lat'\u001b[0m\u001b[0;34m]\u001b[0m\u001b[0;34m)\u001b[0m\u001b[0;34m\u001b[0m\u001b[0;34m\u001b[0m\u001b[0m\n\u001b[0m\u001b[1;32m      5\u001b[0m \u001b[0my\u001b[0m\u001b[0;34m=\u001b[0m\u001b[0mnp\u001b[0m\u001b[0;34m.\u001b[0m\u001b[0marray\u001b[0m\u001b[0;34m(\u001b[0m\u001b[0mdf\u001b[0m\u001b[0;34m[\u001b[0m\u001b[0;34m'lon'\u001b[0m\u001b[0;34m]\u001b[0m\u001b[0;34m)\u001b[0m\u001b[0;34m\u001b[0m\u001b[0;34m\u001b[0m\u001b[0m\n\u001b[1;32m      6\u001b[0m \u001b[0mplt\u001b[0m\u001b[0;34m.\u001b[0m\u001b[0mfigure\u001b[0m\u001b[0;34m(\u001b[0m\u001b[0mfigsize\u001b[0m\u001b[0;34m=\u001b[0m\u001b[0;34m(\u001b[0m\u001b[0;36m15\u001b[0m\u001b[0;34m,\u001b[0m \u001b[0;36m10\u001b[0m\u001b[0;34m)\u001b[0m\u001b[0;34m)\u001b[0m\u001b[0;34m\u001b[0m\u001b[0;34m\u001b[0m\u001b[0m\n",
      "\u001b[0;32m~/anaconda3/envs/analogs/lib/python3.8/site-packages/pandas/core/frame.py\u001b[0m in \u001b[0;36m__getitem__\u001b[0;34m(self, key)\u001b[0m\n\u001b[1;32m   2900\u001b[0m             \u001b[0;32mif\u001b[0m \u001b[0mself\u001b[0m\u001b[0;34m.\u001b[0m\u001b[0mcolumns\u001b[0m\u001b[0;34m.\u001b[0m\u001b[0mnlevels\u001b[0m \u001b[0;34m>\u001b[0m \u001b[0;36m1\u001b[0m\u001b[0;34m:\u001b[0m\u001b[0;34m\u001b[0m\u001b[0;34m\u001b[0m\u001b[0m\n\u001b[1;32m   2901\u001b[0m                 \u001b[0;32mreturn\u001b[0m \u001b[0mself\u001b[0m\u001b[0;34m.\u001b[0m\u001b[0m_getitem_multilevel\u001b[0m\u001b[0;34m(\u001b[0m\u001b[0mkey\u001b[0m\u001b[0;34m)\u001b[0m\u001b[0;34m\u001b[0m\u001b[0;34m\u001b[0m\u001b[0m\n\u001b[0;32m-> 2902\u001b[0;31m             \u001b[0mindexer\u001b[0m \u001b[0;34m=\u001b[0m \u001b[0mself\u001b[0m\u001b[0;34m.\u001b[0m\u001b[0mcolumns\u001b[0m\u001b[0;34m.\u001b[0m\u001b[0mget_loc\u001b[0m\u001b[0;34m(\u001b[0m\u001b[0mkey\u001b[0m\u001b[0;34m)\u001b[0m\u001b[0;34m\u001b[0m\u001b[0;34m\u001b[0m\u001b[0m\n\u001b[0m\u001b[1;32m   2903\u001b[0m             \u001b[0;32mif\u001b[0m \u001b[0mis_integer\u001b[0m\u001b[0;34m(\u001b[0m\u001b[0mindexer\u001b[0m\u001b[0;34m)\u001b[0m\u001b[0;34m:\u001b[0m\u001b[0;34m\u001b[0m\u001b[0;34m\u001b[0m\u001b[0m\n\u001b[1;32m   2904\u001b[0m                 \u001b[0mindexer\u001b[0m \u001b[0;34m=\u001b[0m \u001b[0;34m[\u001b[0m\u001b[0mindexer\u001b[0m\u001b[0;34m]\u001b[0m\u001b[0;34m\u001b[0m\u001b[0;34m\u001b[0m\u001b[0m\n",
      "\u001b[0;32m~/anaconda3/envs/analogs/lib/python3.8/site-packages/pandas/core/indexes/base.py\u001b[0m in \u001b[0;36mget_loc\u001b[0;34m(self, key, method, tolerance)\u001b[0m\n\u001b[1;32m   2891\u001b[0m                 \u001b[0;32mreturn\u001b[0m \u001b[0mself\u001b[0m\u001b[0;34m.\u001b[0m\u001b[0m_engine\u001b[0m\u001b[0;34m.\u001b[0m\u001b[0mget_loc\u001b[0m\u001b[0;34m(\u001b[0m\u001b[0mcasted_key\u001b[0m\u001b[0;34m)\u001b[0m\u001b[0;34m\u001b[0m\u001b[0;34m\u001b[0m\u001b[0m\n\u001b[1;32m   2892\u001b[0m             \u001b[0;32mexcept\u001b[0m \u001b[0mKeyError\u001b[0m \u001b[0;32mas\u001b[0m \u001b[0merr\u001b[0m\u001b[0;34m:\u001b[0m\u001b[0;34m\u001b[0m\u001b[0;34m\u001b[0m\u001b[0m\n\u001b[0;32m-> 2893\u001b[0;31m                 \u001b[0;32mraise\u001b[0m \u001b[0mKeyError\u001b[0m\u001b[0;34m(\u001b[0m\u001b[0mkey\u001b[0m\u001b[0;34m)\u001b[0m \u001b[0;32mfrom\u001b[0m \u001b[0merr\u001b[0m\u001b[0;34m\u001b[0m\u001b[0;34m\u001b[0m\u001b[0m\n\u001b[0m\u001b[1;32m   2894\u001b[0m \u001b[0;34m\u001b[0m\u001b[0m\n\u001b[1;32m   2895\u001b[0m         \u001b[0;32mif\u001b[0m \u001b[0mtolerance\u001b[0m \u001b[0;32mis\u001b[0m \u001b[0;32mnot\u001b[0m \u001b[0;32mNone\u001b[0m\u001b[0;34m:\u001b[0m\u001b[0;34m\u001b[0m\u001b[0;34m\u001b[0m\u001b[0m\n",
      "\u001b[0;31mKeyError\u001b[0m: 'lat'"
     ]
    }
   ],
   "source": [
    "print(df)\n",
    "from sklearn.cluster import KMeans\n",
    "plt.style.use('default')\n",
    "x=np.array(df['lat'])\n",
    "y=np.array(df['lon'])\n",
    "plt.figure(figsize=(15, 10))\n",
    "plt.scatter(x, y, s=5, cmap='viridis',c='orange',label='Analogs')\n",
    "plt.title('Lat lon SED',fontsize=18, fontweight='bold')\n",
    "plt.xlabel('Lat',fontsize=15)\n",
    "plt.ylabel('Lon',fontsize=15)"
   ]
  },
  {
   "cell_type": "code",
   "execution_count": null,
   "metadata": {
    "tags": []
   },
   "outputs": [],
   "source": [
    "# plot\n",
    "plt.figure(figsize=(21,14))\n",
    "ax = plt.axes(projection=ccrs.Miller(central_longitude=180))\n",
    "contours = da.plot.contourf(ax=ax, transform=ccrs.PlateCarree(),\n",
    "    cmap=cmap, vmin=vmin, vmax=vmax, extend='both')\n",
    "if cbar_ylabel:\n",
    "    contours.colorbar.ax.set_ylabel(cbar_ylabel)\n",
    "plt.title(title, size=25)\n",
    "ax.set_global(); ax.coastlines(); ax.add_feature(cartopy.feature.STATES)\n",
    "\n",
    "#plot points\n",
    "if top_k:  \n",
    "    ax.scatter([a[0] for a in top_k],[a[1] for a in top_k],\n",
    "    transform=ccrs.PlateCarree(), color='purple',\n",
    "    s=100, label = \"Top-{} Analogs\".format(k))\n",
    "ax.scatter(*(location), transform=ccrs.PlateCarree(),\n",
    "    color='blue', s=100, label=\"Location\")\n",
    "ax.legend()\n",
    "plt.show()\n",
    "print (top_k)"
   ]
  },
  {
   "cell_type": "code",
   "execution_count": 55,
   "metadata": {},
   "outputs": [
    {
     "output_type": "stream",
     "name": "stdout",
     "text": [
      "[36.365845 36.285984 36.281197 ... 23.494827 23.432343 23.290562]\n"
     ]
    }
   ],
   "source": [
    "print(df['Standardized Euclidean Distance'].to_numpy())"
   ]
  },
  {
   "cell_type": "code",
   "execution_count": 67,
   "metadata": {},
   "outputs": [
    {
     "output_type": "stream",
     "name": "stdout",
     "text": [
      "0       -90.000000\n1       -90.000000\n2       -90.000000\n3       -90.000000\n4       -90.000000\n           ...    \n18473    83.403145\n18474    83.403145\n18475    83.403145\n18476    83.403145\n18477    83.403145\nName: lat, Length: 18478, dtype: float64\n"
     ]
    }
   ],
   "source": [
    "print(df.reset_index(inplace=True))"
   ]
  },
  {
   "cell_type": "code",
   "execution_count": 64,
   "metadata": {},
   "outputs": [
    {
     "output_type": "stream",
     "name": "stdout",
     "text": [
      "lat         lon   \n-90.000000  0.00      36.365845\n            1.25      36.285984\n            2.50      36.281197\n            3.75      36.278149\n            5.00      36.366158\n                        ...    \n 83.403145  327.50    23.556850\n            328.75    23.543150\n            330.00    23.494827\n            331.25    23.432343\n            332.50    23.290562\nName: Standardized Euclidean Distance, Length: 18475, dtype: float32\n36.365845\n"
     ]
    }
   ],
   "source": [
    "print(da_min.to_series().dropna())\n",
    "print(da_min.to_series().dropna())"
   ]
  },
  {
   "cell_type": "code",
   "execution_count": null,
   "metadata": {},
   "outputs": [],
   "source": []
  }
 ]
}